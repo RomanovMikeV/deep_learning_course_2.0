{
 "cells": [
  {
   "cell_type": "code",
   "execution_count": 1,
   "metadata": {},
   "outputs": [
    {
     "name": "stdout",
     "output_type": "stream",
     "text": [
      "Populating the interactive namespace from numpy and matplotlib\n"
     ]
    },
    {
     "data": {
      "text/plain": [
       "<torch._C.Generator at 0x7f899f9fb480>"
      ]
     },
     "execution_count": 1,
     "metadata": {},
     "output_type": "execute_result"
    }
   ],
   "source": [
    "%pylab inline\n",
    "import torch\n",
    "import numpy\n",
    "import sklearn.datasets\n",
    "import torchvision.datasets\n",
    "import torchvision.transforms\n",
    "import os\n",
    "\n",
    "torch.manual_seed(0)"
   ]
  },
  {
   "cell_type": "code",
   "execution_count": 2,
   "metadata": {},
   "outputs": [],
   "source": [
    "# # Preparing dataset\n",
    "# valid_train_split = 0.9\n",
    "\n",
    "# cats_dogs_data = sorted(os.listdir('train'))\n",
    "# cats_dogs_data = numpy.array(cats_dogs_data)\n",
    "# numpy.random.shuffle(cats_dogs_data)\n",
    "\n",
    "# labels = []\n",
    "# for index in range(cats_dogs_data.size):\n",
    "#     if cats_dogs_data[index][:3] == 'cat':\n",
    "#         labels.append(1.0)\n",
    "#     else:\n",
    "#         labels.append(0.0)\n",
    "# labels = numpy.array(labels)\n",
    "\n",
    "# valid_train_split *= float(labels.size)\n",
    "# valid_train_split = int(valid_train_split)\n",
    "\n",
    "# data_train = cats_dogs_data[:valid_train_split]\n",
    "# data_valid = cats_dogs_data[valid_train_split:]\n",
    "\n",
    "# labels_train = labels[:valid_train_split]\n",
    "# labels_valid = labels[valid_train_split:]"
   ]
  },
  {
   "cell_type": "code",
   "execution_count": 3,
   "metadata": {
    "collapsed": true
   },
   "outputs": [],
   "source": [
    "# Бинарная классификация\n",
    "class CatDogConvNet(torch.nn.Module):\n",
    "    def __init__(self):\n",
    "        super(CatDogConvNet, self).__init__()\n",
    "        self.batch_norm1 = torch.nn.BatchNorm2d(3)\n",
    "        self.conv1 = torch.nn.Conv2d(3, 16, 3, padding=1)\n",
    "        self.act1  = torch.nn.ReLU()\n",
    "        self.pool1 = torch.nn.MaxPool2d(2, 2)\n",
    "        self.batch_norm2 = torch.nn.BatchNorm2d(16)\n",
    "        self.conv2 = torch.nn.Conv2d(16, 32, 3, padding=1)\n",
    "        self.act2  = torch.nn.ReLU()\n",
    "\n",
    "        self.pool2 = torch.nn.MaxPool2d(2, 2)\n",
    "        self.batch_norm3 = torch.nn.BatchNorm2d(32)\n",
    "        self.conv3 = torch.nn.Conv2d(32, 64, 3, padding=1)\n",
    "        self.act3  = torch.nn.ReLU()\n",
    "        \n",
    "        self.batch_norm4 = torch.nn.BatchNorm1d(64*64)\n",
    "        self.fc1   = torch.nn.Linear(64 * 64, 256)\n",
    "        self.act4  = torch.nn.Tanh()\n",
    "        self.batch_norm5 = torch.nn.BatchNorm1d(256)\n",
    "        self.fc2   = torch.nn.Linear(256, 64)\n",
    "        self.act5  = torch.nn.Tanh()\n",
    "        self.batch_norm6 = torch.nn.BatchNorm1d(64)\n",
    "        self.fc3   = torch.nn.Linear(64, 1)\n",
    "    \n",
    "    def forward(self, x):\n",
    "        x = self.batch_norm1(x)\n",
    "        x = self.conv1(x)\n",
    "        x = self.act1(x)\n",
    "        x = self.pool1(x)\n",
    "        x = self.batch_norm2(x)\n",
    "        x = self.conv2(x)\n",
    "        x = self.act2(x)\n",
    "        x = self.pool2(x)\n",
    "        x = self.batch_norm3(x)\n",
    "        x = self.conv3(x)\n",
    "        x = self.act3(x)\n",
    "        \n",
    "        x = x.view(x.size(0), x.size(1) * x.size(2) * x.size(3))\n",
    "        x = self.batch_norm4(x)\n",
    "        x = self.fc1(x)\n",
    "        x = self.act4(x)\n",
    "        x = self.batch_norm5(x)\n",
    "        x = self.fc2(x)\n",
    "        x = self.act5(x)\n",
    "        x = self.batch_norm6(x)\n",
    "        x = self.fc3(x)\n",
    "        \n",
    "        return x"
   ]
  },
  {
   "cell_type": "code",
   "execution_count": 4,
   "metadata": {},
   "outputs": [],
   "source": [
    "cat_dog_net = CatDogConvNet()\n",
    "criterion = torch.nn.BCELoss()\n",
    "optimizer = torch.optim.Adam(cat_dog_net.parameters(), lr=1.0e-3)"
   ]
  },
  {
   "cell_type": "code",
   "execution_count": 15,
   "metadata": {},
   "outputs": [],
   "source": [
    "train_folder = './train'\n",
    "\n",
    "transforms = torchvision.transforms.Compose(\n",
    "    [\n",
    "        torchvision.transforms.RandomCrop(224),              # Преобразует картинку к указанному размеру\n",
    "         torchvision.transforms.ToTensor()                   # Переводит объект \"картинка\" к torch.Tensor\n",
    "    ])\n",
    "image_folder = torchvision.datasets.ImageFolder(\n",
    "    train_folder, \n",
    "    transforms)\n",
    "\n",
    "data_loader = torch.utils.data.DataLoader(\n",
    "    image_folder,\n",
    "    shuffle=True,\n",
    "    pin_memory=True,\n",
    "    batch_size=10,\n",
    "    num_workers=4)"
   ]
  },
  {
   "cell_type": "code",
   "execution_count": 16,
   "metadata": {},
   "outputs": [
    {
     "ename": "ValueError",
     "evalue": "Traceback (most recent call last):\n  File \"/home/wind/miniconda2/lib/python2.7/site-packages/torch/utils/data/dataloader.py\", line 34, in _worker_loop\n    samples = collate_fn([dataset[i] for i in batch_indices])\n  File \"/home/wind/miniconda2/lib/python2.7/site-packages/torchvision-0.1.8-py2.7.egg/torchvision/datasets/folder.py\", line 67, in __getitem__\n    img = self.transform(img)\n  File \"/home/wind/miniconda2/lib/python2.7/site-packages/torchvision-0.1.8-py2.7.egg/torchvision/transforms.py\", line 29, in __call__\n    img = t(img)\n  File \"/home/wind/miniconda2/lib/python2.7/site-packages/torchvision-0.1.8-py2.7.egg/torchvision/transforms.py\", line 209, in __call__\n    x1 = random.randint(0, w - tw)\n  File \"/home/wind/miniconda2/lib/python2.7/random.py\", line 242, in randint\n    return self.randrange(a, b+1)\n  File \"/home/wind/miniconda2/lib/python2.7/random.py\", line 218, in randrange\n    raise ValueError, \"empty range for randrange() (%d,%d, %d)\" % (istart, istop, width)\nValueError: empty range for randrange() (0,-40, -40)\n",
     "output_type": "error",
     "traceback": [
      "\u001b[0;31m\u001b[0m",
      "\u001b[0;31mValueError\u001b[0mTraceback (most recent call last)",
      "\u001b[0;32m<ipython-input-16-27436ca41f8c>\u001b[0m in \u001b[0;36m<module>\u001b[0;34m()\u001b[0m\n\u001b[1;32m      1\u001b[0m \u001b[0;32mfor\u001b[0m \u001b[0mepoch_index\u001b[0m \u001b[0;32min\u001b[0m \u001b[0mrange\u001b[0m\u001b[0;34m(\u001b[0m\u001b[0;36m10\u001b[0m\u001b[0;34m)\u001b[0m\u001b[0;34m:\u001b[0m\u001b[0;34m\u001b[0m\u001b[0m\n\u001b[0;32m----> 2\u001b[0;31m     \u001b[0;32mfor\u001b[0m \u001b[0minp\u001b[0m\u001b[0;34m,\u001b[0m\u001b[0mtarg\u001b[0m \u001b[0;32min\u001b[0m \u001b[0mdata_loader\u001b[0m\u001b[0;34m:\u001b[0m\u001b[0;34m\u001b[0m\u001b[0m\n\u001b[0m\u001b[1;32m      3\u001b[0m         \u001b[0;32mprint\u001b[0m \u001b[0minp\u001b[0m\u001b[0;34m.\u001b[0m\u001b[0mshape\u001b[0m\u001b[0;34m\u001b[0m\u001b[0m\n\u001b[1;32m      4\u001b[0m         \u001b[0;32mprint\u001b[0m \u001b[0mtarg\u001b[0m\u001b[0;34m.\u001b[0m\u001b[0mshape\u001b[0m\u001b[0;34m\u001b[0m\u001b[0m\n",
      "\u001b[0;32m/home/wind/miniconda2/lib/python2.7/site-packages/torch/utils/data/dataloader.pyc\u001b[0m in \u001b[0;36m__next__\u001b[0;34m(self)\u001b[0m\n\u001b[1;32m    177\u001b[0m                 \u001b[0mself\u001b[0m\u001b[0;34m.\u001b[0m\u001b[0mreorder_dict\u001b[0m\u001b[0;34m[\u001b[0m\u001b[0midx\u001b[0m\u001b[0;34m]\u001b[0m \u001b[0;34m=\u001b[0m \u001b[0mbatch\u001b[0m\u001b[0;34m\u001b[0m\u001b[0m\n\u001b[1;32m    178\u001b[0m                 \u001b[0;32mcontinue\u001b[0m\u001b[0;34m\u001b[0m\u001b[0m\n\u001b[0;32m--> 179\u001b[0;31m             \u001b[0;32mreturn\u001b[0m \u001b[0mself\u001b[0m\u001b[0;34m.\u001b[0m\u001b[0m_process_next_batch\u001b[0m\u001b[0;34m(\u001b[0m\u001b[0mbatch\u001b[0m\u001b[0;34m)\u001b[0m\u001b[0;34m\u001b[0m\u001b[0m\n\u001b[0m\u001b[1;32m    180\u001b[0m \u001b[0;34m\u001b[0m\u001b[0m\n\u001b[1;32m    181\u001b[0m     \u001b[0mnext\u001b[0m \u001b[0;34m=\u001b[0m \u001b[0m__next__\u001b[0m  \u001b[0;31m# Python 2 compatibility\u001b[0m\u001b[0;34m\u001b[0m\u001b[0m\n",
      "\u001b[0;32m/home/wind/miniconda2/lib/python2.7/site-packages/torch/utils/data/dataloader.pyc\u001b[0m in \u001b[0;36m_process_next_batch\u001b[0;34m(self, batch)\u001b[0m\n\u001b[1;32m    204\u001b[0m         \u001b[0mself\u001b[0m\u001b[0;34m.\u001b[0m\u001b[0m_put_indices\u001b[0m\u001b[0;34m(\u001b[0m\u001b[0;34m)\u001b[0m\u001b[0;34m\u001b[0m\u001b[0m\n\u001b[1;32m    205\u001b[0m         \u001b[0;32mif\u001b[0m \u001b[0misinstance\u001b[0m\u001b[0;34m(\u001b[0m\u001b[0mbatch\u001b[0m\u001b[0;34m,\u001b[0m \u001b[0mExceptionWrapper\u001b[0m\u001b[0;34m)\u001b[0m\u001b[0;34m:\u001b[0m\u001b[0;34m\u001b[0m\u001b[0m\n\u001b[0;32m--> 206\u001b[0;31m             \u001b[0;32mraise\u001b[0m \u001b[0mbatch\u001b[0m\u001b[0;34m.\u001b[0m\u001b[0mexc_type\u001b[0m\u001b[0;34m(\u001b[0m\u001b[0mbatch\u001b[0m\u001b[0;34m.\u001b[0m\u001b[0mexc_msg\u001b[0m\u001b[0;34m)\u001b[0m\u001b[0;34m\u001b[0m\u001b[0m\n\u001b[0m\u001b[1;32m    207\u001b[0m         \u001b[0;32mreturn\u001b[0m \u001b[0mbatch\u001b[0m\u001b[0;34m\u001b[0m\u001b[0m\n\u001b[1;32m    208\u001b[0m \u001b[0;34m\u001b[0m\u001b[0m\n",
      "\u001b[0;31mValueError\u001b[0m: Traceback (most recent call last):\n  File \"/home/wind/miniconda2/lib/python2.7/site-packages/torch/utils/data/dataloader.py\", line 34, in _worker_loop\n    samples = collate_fn([dataset[i] for i in batch_indices])\n  File \"/home/wind/miniconda2/lib/python2.7/site-packages/torchvision-0.1.8-py2.7.egg/torchvision/datasets/folder.py\", line 67, in __getitem__\n    img = self.transform(img)\n  File \"/home/wind/miniconda2/lib/python2.7/site-packages/torchvision-0.1.8-py2.7.egg/torchvision/transforms.py\", line 29, in __call__\n    img = t(img)\n  File \"/home/wind/miniconda2/lib/python2.7/site-packages/torchvision-0.1.8-py2.7.egg/torchvision/transforms.py\", line 209, in __call__\n    x1 = random.randint(0, w - tw)\n  File \"/home/wind/miniconda2/lib/python2.7/random.py\", line 242, in randint\n    return self.randrange(a, b+1)\n  File \"/home/wind/miniconda2/lib/python2.7/random.py\", line 218, in randrange\n    raise ValueError, \"empty range for randrange() (%d,%d, %d)\" % (istart, istop, width)\nValueError: empty range for randrange() (0,-40, -40)\n"
     ]
    }
   ],
   "source": [
    "for epoch_index in range(10):\n",
    "    for inp,targ in data_loader:\n",
    "        print inp.shape\n",
    "        print targ.shape"
   ]
  },
  {
   "cell_type": "code",
   "execution_count": 10,
   "metadata": {},
   "outputs": [
    {
     "name": "stdout",
     "output_type": "stream",
     "text": [
      "<module 'torchvision' from '/home/wind/miniconda2/lib/python2.7/site-packages/torchvision-0.1.8-py2.7.egg/torchvision/__init__.py'>\n"
     ]
    }
   ],
   "source": [
    "print torchvision"
   ]
  },
  {
   "cell_type": "code",
   "execution_count": null,
   "metadata": {},
   "outputs": [
    {
     "name": "stdout",
     "output_type": "stream",
     "text": [
      "0.6546\n",
      "0.6966\n",
      "0.7109\n",
      "0.7207\n",
      "0.7129\n",
      "0.716\n"
     ]
    }
   ],
   "source": [
    "batch_size = 10\n",
    "for epoch in range(100):\n",
    "    order = random.permutation(train_features.shape[0])\n",
    "    for start_index in range(0, train_features.shape[0], batch_size):\n",
    "        optimizer.zero_grad()\n",
    "        \n",
    "        batch_indice = order[start_index:start_index+batch_size]\n",
    "#         print batch_indice\n",
    "        batch_features = train_features[batch_indice, :, :, :]\n",
    "        \n",
    "        batch_features = torch.FloatTensor(batch_features)\n",
    "        batch_labels = torch.LongTensor(train_labels[batch_indice])\n",
    "        \n",
    "        features_var = torch.autograd.Variable(batch_features)\n",
    "        labels_var = torch.autograd.Variable(batch_labels)\n",
    "        \n",
    "        preds_var = cifar_net.forward(features_var)\n",
    "        loss = criterion(preds_var, labels_var)\n",
    "        \n",
    "        loss.backward()\n",
    "        \n",
    "        optimizer.step()\n",
    "        \n",
    "    order = random.permutation(test_features.shape[0])\n",
    "    \n",
    "    all_preds = []\n",
    "    all_trues = []\n",
    "    for start_index in range(0, test_features.shape[0], batch_size):\n",
    "        batch_indice = order[start_index:start_index+batch_size]\n",
    "        batch_features = test_features[batch_indice, :, :, :].astype(float)\n",
    "        batch_features = torch.FloatTensor(batch_features)\n",
    "        trues = test_labels[batch_indice]\n",
    "        \n",
    "        features_var = torch.autograd.Variable(batch_features)\n",
    "        \n",
    "        preds = cifar_net.forward(features_var).data.numpy().argmax(axis=1)\n",
    "        \n",
    "#         print preds.shape\n",
    "#         print trues.shape\n",
    "        \n",
    "        all_preds.append(preds)\n",
    "        all_trues.append(trues)\n",
    "        \n",
    "    all_preds = numpy.concatenate(all_preds)\n",
    "    all_trues = numpy.concatenate(all_trues)\n",
    "    \n",
    "    print (all_preds == all_trues).sum() / float(all_trues.size)"
   ]
  },
  {
   "cell_type": "markdown",
   "metadata": {},
   "source": [
    "# Задание 1\n",
    "Добавить (раскомментировать) строки кода, добавляющие BatchNorm в модель. Улучшается ли при этом результат? Почему?"
   ]
  },
  {
   "cell_type": "markdown",
   "metadata": {},
   "source": [
    "# Задание 2\n",
    "Увеличить размер пятна (perception area) каждой свертки. Улучшится ли качество?"
   ]
  },
  {
   "cell_type": "markdown",
   "metadata": {},
   "source": [
    "# Задание 3 \n",
    "Можно ли увеличить размер пятна каким-либо другим способом (помимо увеличения размера свертки) в промежутках между MaxPooling?"
   ]
  }
 ],
 "metadata": {
  "anaconda-cloud": {},
  "kernelspec": {
   "display_name": "Python 3",
   "language": "python",
   "name": "python3"
  },
  "language_info": {
   "codemirror_mode": {
    "name": "ipython",
    "version": 3
   },
   "file_extension": ".py",
   "mimetype": "text/x-python",
   "name": "python",
   "nbconvert_exporter": "python",
   "pygments_lexer": "ipython3",
   "version": "3.6.2"
  }
 },
 "nbformat": 4,
 "nbformat_minor": 2
}
