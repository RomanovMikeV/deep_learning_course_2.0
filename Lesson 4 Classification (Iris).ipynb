{
 "cells": [
  {
   "cell_type": "markdown",
   "metadata": {},
   "source": [
    "https://ru.wikipedia.org/wiki/%D0%98%D1%80%D0%B8%D1%81%D1%8B_%D0%A4%D0%B8%D1%88%D0%B5%D1%80%D0%B0#/media/File:Iris_dataset_scatterplot.svg"
   ]
  },
  {
   "cell_type": "code",
   "execution_count": 1,
   "metadata": {},
   "outputs": [
    {
     "name": "stdout",
     "output_type": "stream",
     "text": [
      "Populating the interactive namespace from numpy and matplotlib\n"
     ]
    },
    {
     "data": {
      "text/plain": [
       "<torch._C.Generator at 0x7f956c145768>"
      ]
     },
     "execution_count": 1,
     "metadata": {},
     "output_type": "execute_result"
    }
   ],
   "source": [
    "%pylab inline\n",
    "import sklearn.datasets\n",
    "import torch\n",
    "import torch.nn\n",
    "\n",
    "random.seed(0)\n",
    "torch.manual_seed(0)"
   ]
  },
  {
   "cell_type": "code",
   "execution_count": 2,
   "metadata": {
    "collapsed": true
   },
   "outputs": [],
   "source": [
    "iris = sklearn.datasets.load_iris()"
   ]
  },
  {
   "cell_type": "code",
   "execution_count": 3,
   "metadata": {},
   "outputs": [],
   "source": [
    "features = iris.data[:, :2]\n",
    "labels = iris.target\n",
    "\n",
    "order = random.permutation(150)\n",
    "\n",
    "features = features[order, :]\n",
    "labels = labels[order]\n",
    "\n",
    "targets = numpy.zeros([150, 3])\n",
    "targets[arange(150), labels] = 1.0\n",
    "\n",
    "train_features = features[:100, :]\n",
    "test_features = features[100:, :]\n",
    "train_targets = targets[:100]\n",
    "test_targets = targets[100:]\n",
    "train_labels = labels[:100]\n",
    "test_labels = labels[100:]"
   ]
  },
  {
   "cell_type": "code",
   "execution_count": 4,
   "metadata": {},
   "outputs": [],
   "source": [
    "class IrisNet(torch.nn.Module):\n",
    "    def __init__(self, n_hidden_neurons):\n",
    "        \n",
    "        super(IrisNet, self).__init__()\n",
    "        self.bn1 = torch.nn.BatchNorm1d(2)\n",
    "        self.fc1 = torch.nn.Linear(2, n_hidden_neurons)\n",
    "        self.activ1 = torch.nn.Sigmoid()\n",
    "        self.bn2 = torch.nn.BatchNorm1d(n_hidden_neurons)\n",
    "        self.fc2 = torch.nn.Linear(n_hidden_neurons, 3)\n",
    "        self.sm = torch.nn.Softmax()\n",
    "        \n",
    "    def forward(self, x):\n",
    "        x = self.bn1(x)\n",
    "        x = self.fc1(x)\n",
    "        x = self.activ1(x)\n",
    "        x = self.bn2(x)\n",
    "        x = self.fc2(x)\n",
    "#         x = self.activ2(x)\n",
    "        return x\n",
    "\n",
    "    def inference(self, x):\n",
    "        x = self.forward(x)\n",
    "        x = self.sm(x)\n",
    "        return x"
   ]
  },
  {
   "cell_type": "code",
   "execution_count": 7,
   "metadata": {},
   "outputs": [
    {
     "name": "stdout",
     "output_type": "stream",
     "text": [
      "(100, 3)\n"
     ]
    }
   ],
   "source": [
    "criterion = torch.nn.CrossEntropyLoss()\n",
    "    \n",
    "print(train_targets.shape)\n",
    "\n",
    "iris_net = IrisNet(5)\n",
    "\n",
    "optimizer = torch.optim.Adam(iris_net.parameters(), \n",
    "                             lr=1.0e-3)"
   ]
  },
  {
   "cell_type": "code",
   "execution_count": 8,
   "metadata": {
    "scrolled": true
   },
   "outputs": [
    {
     "name": "stdout",
     "output_type": "stream",
     "text": [
      "0.58\n",
      "0.84\n",
      "0.82\n",
      "0.82\n",
      "0.82\n",
      "0.82\n",
      "0.82\n",
      "0.82\n",
      "0.82\n",
      "0.82\n",
      "0.82\n",
      "0.84\n",
      "0.84\n",
      "0.84\n",
      "0.84\n",
      "0.84\n",
      "0.84\n",
      "0.84\n",
      "0.84\n",
      "0.84\n",
      "0.84\n",
      "0.82\n",
      "0.82\n",
      "0.84\n",
      "0.8\n",
      "0.82\n",
      "0.82\n",
      "0.8\n",
      "0.82\n",
      "0.82\n",
      "0.8\n",
      "0.82\n",
      "0.82\n",
      "0.8\n",
      "0.8\n",
      "0.8\n",
      "0.8\n",
      "0.82\n",
      "0.82\n",
      "0.8\n",
      "0.82\n",
      "0.84\n",
      "0.8\n",
      "0.84\n",
      "0.84\n",
      "0.82\n",
      "0.84\n",
      "0.84\n",
      "0.82\n",
      "0.82\n",
      "0.82\n",
      "0.82\n",
      "0.82\n",
      "0.82\n",
      "0.82\n",
      "0.82\n",
      "0.82\n",
      "0.82\n",
      "0.82\n",
      "0.82\n",
      "0.82\n",
      "0.82\n",
      "0.82\n",
      "0.82\n",
      "0.82\n",
      "0.82\n",
      "0.82\n",
      "0.82\n",
      "0.82\n",
      "0.82\n",
      "0.82\n",
      "0.82\n",
      "0.82\n",
      "0.82\n",
      "0.82\n",
      "0.82\n",
      "0.82\n",
      "0.82\n",
      "0.82\n",
      "0.82\n",
      "0.82\n",
      "0.82\n",
      "0.82\n",
      "0.82\n",
      "0.82\n",
      "0.82\n",
      "0.82\n",
      "0.82\n",
      "0.82\n",
      "0.82\n",
      "0.82\n",
      "0.82\n",
      "0.82\n",
      "0.82\n",
      "0.82\n",
      "0.82\n",
      "0.82\n",
      "0.82\n",
      "0.82\n",
      "0.82\n"
     ]
    }
   ],
   "source": [
    "batch_size = 10\n",
    "\n",
    "softmax = torch.nn.Softmax()\n",
    "\n",
    "for epoch in range(10000):\n",
    "    order = random.permutation(train_features.shape[0])\n",
    "    for start_index in range(0, train_features.shape[0], batch_size):\n",
    "        optimizer.zero_grad()\n",
    "        \n",
    "        batch_indice = order[start_index:start_index+batch_size]\n",
    "        \n",
    "        batch_features = torch.FloatTensor(train_features[batch_indice, :])\n",
    "        batch_labels = torch.LongTensor(train_labels[batch_indice])\n",
    "        \n",
    "        features_var = torch.autograd.Variable(batch_features)\n",
    "        targets_var = torch.autograd.Variable(batch_labels)\n",
    "        \n",
    "        preds_var = iris_net.forward(features_var)\n",
    "        \n",
    "#         print preds_var\n",
    "#         print targets_var\n",
    "        \n",
    "        loss = criterion.forward(preds_var, targets_var)\n",
    "        loss.backward()\n",
    "        \n",
    "        optimizer.step()\n",
    "        \n",
    "    test_features = torch.Tensor(test_features)\n",
    "    features_var = torch.autograd.Variable(test_features)\n",
    "    test_preds = iris_net.forward(features_var)\n",
    "    test_preds = softmax(test_preds).data.numpy()\n",
    "        \n",
    "    test_preds = test_preds.argmax(axis=1)\n",
    "    if epoch % 100 == 0:\n",
    "        print((test_preds == test_labels).sum() / float(test_labels.size))"
   ]
  },
  {
   "cell_type": "code",
   "execution_count": null,
   "metadata": {
    "collapsed": true
   },
   "outputs": [],
   "source": [
    "x_min, x_max = X[:, 0].min() - 1, X[:, 0].max() + 1\n",
    "y_min, y_max = X[:, 1].min() - 1, X[:, 1].max() + 1\n",
    "xx, yy = np.meshgrid(np.arange(x_min, x_max, plot_step),\n",
    "                     np.arange(y_min, y_max, plot_step))\n",
    "\n",
    "\n",
    "estimator_alpha = 1.0 / len(clf.estimators_)\n",
    "for tree in clf.estimators_:\n",
    "    Z = tree.predict(np.c_[xx.ravel(), yy.ravel()])\n",
    "    Z = Z.reshape(xx.shape)\n",
    "    cs = plt.contourf(xx, yy, Z, alpha=estimator_alpha, cmap=cmap)"
   ]
  },
  {
   "cell_type": "markdown",
   "metadata": {},
   "source": [
    "# Задание 1\n",
    "Сделать нейронную сеть с двумя скрытыми слоями (оба сигмоидные). Подобрать количество нейронов в первом и втором слое, которое максимизирует значение accuracy (процент угаданных цветков).\n",
    "\n",
    "Замените функцию активации с сигмоиды на гиперболический тангенс.\n",
    "Что изменилось?"
   ]
  },
  {
   "cell_type": "markdown",
   "metadata": {},
   "source": [
    "# Задание 2\n",
    "Отцентрируйте и отнормируйте данные, добавьте неиспользованные признаки. Стало ли качество лучше? Что больше повлияло на качество, предобработка данных или увеличение числа рассматриваемых признаков?"
   ]
  }
 ],
 "metadata": {
  "anaconda-cloud": {},
  "kernelspec": {
   "display_name": "Python 3",
   "language": "python",
   "name": "python3"
  },
  "language_info": {
   "codemirror_mode": {
    "name": "ipython",
    "version": 3
   },
   "file_extension": ".py",
   "mimetype": "text/x-python",
   "name": "python",
   "nbconvert_exporter": "python",
   "pygments_lexer": "ipython3",
   "version": "3.6.2"
  }
 },
 "nbformat": 4,
 "nbformat_minor": 2
}
