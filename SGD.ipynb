{
 "cells": [
  {
   "cell_type": "markdown",
   "metadata": {},
   "source": [
    "Входные данные: $\\vec{X}$ – размер $[l \\times n]$\n",
    "\n",
    "Ответы: $\\vec{target}$ – размер $[l]$\n",
    "\n",
    "Веса сети: $\\vec{w}$ – размер $[100500]$\n",
    "\n",
    "Выход нейронки на одном примере: ${model}(\\vec{x}^{j}, \\vec{w})$ – размер $1$\n",
    "\n",
    "$$ L = MSE = \\frac{1}{l} \\sum_{j=1}^{l} \\big({model}(\\vec{x}^{j}, \\vec{w}) - {target}^{j}\\big)^2 $$ \n",
    "\n",
    "$t$ - шаг градиентного спуска\n",
    "\n",
    "$$ L_t =  \\frac{1}{l} \\sum_{j=1}^{l} \\big({model}(\\vec{x}^{j}, \\vec{w_t}) - {target}^{j}\\big)^2 $$ "
   ]
  },
  {
   "cell_type": "markdown",
   "metadata": {},
   "source": [
    "## Gradient Descent"
   ]
  },
  {
   "cell_type": "markdown",
   "metadata": {},
   "source": [
    "$$ w^{i}_{t+1} = w^{i}_t - lr \\frac{\\partial L_t}{\\partial w^{i}}  $$\n",
    "$$lr \\sim 0.001$$"
   ]
  },
  {
   "cell_type": "markdown",
   "metadata": {},
   "source": [
    "## SGD\n",
    "Стохастический градиентный спуск"
   ]
  },
  {
   "cell_type": "markdown",
   "metadata": {},
   "source": [
    "$$ L_{batched} = \\frac{1}{b\\_size} \\sum_{j={b\\_start}}^{b\\_start + b\\_size} \\big({model}(\\vec{x}^{j}, \\vec{w}) - {target}^{j}\\big)^2 $$ "
   ]
  },
  {
   "cell_type": "markdown",
   "metadata": {},
   "source": [
    "## SGD  with Momentum"
   ]
  },
  {
   "cell_type": "markdown",
   "metadata": {},
   "source": [
    "<img src=\"https://martin-thoma.com/images/2016/02/visualizing-opt-algorithms-rprop-gradient-descent-momentum.png\">"
   ]
  },
  {
   "cell_type": "markdown",
   "metadata": {},
   "source": [
    "$$\\frac{\\widetilde{\\partial L_{t}}}{\\partial w^{i}} = \\frac{\\partial L_{t}}{\\partial w^{i}} + \\beta \\frac{\\widetilde{\\partial L_{t-1}}}{\\partial w^{i}}$$\n",
    "\n",
    "$$\\beta == momentum = 0.9$$\n",
    "\n",
    "Продолжая рекурсивное правило:\n",
    "$$\\frac{\\widetilde{\\partial L_{t}}}{\\partial w^{i}} = \\frac{\\partial L_{t}}{\\partial w^{i}} + \\beta \\frac{\\partial L_{t-1}}{\\partial w^{i}} + \\beta^2 \\frac{\\widetilde{\\partial L_{t-2}}}{\\partial w^{i}}$$\n",
    "\n",
    "$$ w^{i}_{t+1} = w^{i}_t - lr \\frac{\\widetilde{\\partial L_{t}}}{\\partial w^{i}}  $$"
   ]
  },
  {
   "cell_type": "markdown",
   "metadata": {},
   "source": [
    "## SGD with Nesterov Momentum\n",
    "\n",
    "$$ \\widehat{w^{i}_{t+1}} = w^{i}_t - lr ⋅ \\beta \\frac{\\widetilde{\\partial L_{t}}}{\\partial w^{i}}  $$\n",
    "\n",
    "$$\\frac{\\widetilde{\\partial L_{t}}}{\\partial w^{i}} = \\frac{\\partial L( \\widehat{w^{i}_{t+1}})}{\\partial w^{i}} + \\beta \\frac{\\widetilde{\\partial L_{t-1}}}{\\partial w^{i}}$$\n",
    "\n",
    "$$ w^{i}_{t+1} = w^{i}_t - lr \\frac{\\widetilde{\\partial L_{t}}}{\\partial w^{i}}  $$"
   ]
  },
  {
   "cell_type": "markdown",
   "metadata": {},
   "source": [
    "## RProp:\n",
    "\n",
    "<center>\n",
    "$lr \\rightarrow \\vec{lt}$\n",
    "<br><br>\n",
    "IF $sign(\\frac{\\partial L_{t}}{\\partial w^{i}}) \\neq sign(\\frac{\\partial L_{t-1}}{\\partial w^{i}}) \\longrightarrow lr^i = eta_1 ⋅  lr^i $\n",
    "<br><br>\n",
    "ELSE  $\\longrightarrow lr^i = eta_2 ⋅  lr^i $\n",
    "</center>\n",
    "\n",
    "$$eta_1 = 0.5$$\n",
    "$$eta_2 = 1.2$$\n",
    "\n",
    "$$ w^{i}_{t+1} = w^{i}_t - lr^i \\frac{\\partial L_{t}}{\\partial w^{i}}  $$"
   ]
  },
  {
   "cell_type": "markdown",
   "metadata": {},
   "source": [
    "## ADAM:\n",
    "\n",
    "Моментум + нормализация по длине вектора\n",
    "<img src=\"adam.jpg\">"
   ]
  },
  {
   "cell_type": "markdown",
   "metadata": {},
   "source": [
    "$$v_t = \\beta_2 v_{t-1} + (1 - \\beta_2) \\big(\\frac{\\partial L_{t}}{\\partial w^{i}}\\big)^2$$\n",
    "\n",
    "$$\\beta_2 = 0.999$$\n",
    "\n",
    "$${w^{i}_{t+1}} = w^{i}_t - \\dfrac{lr}{\\sqrt{v_t + \\epsilon}} \\frac{\\widetilde{\\partial L_{t}}}{\\partial w^{i}}$$"
   ]
  },
  {
   "cell_type": "markdown",
   "metadata": {},
   "source": [
    "### Ссылки:\n",
    "\n",
    "Сборная солянка:\n",
    "- https://deeplearning4j.org/updater\n",
    "- https://habrahabr.ru/post/318970/\n",
    "    \n",
    "Визуализация:\n",
    "- https://www.youtube.com/watch?v=OWzkRD6MjYI\n",
    "\n",
    "Миша рассказывает:\n",
    "- https://www.youtube.com/watch?v=MxEVwybIJ_w\n",
    "- https://www.youtube.com/watch?v=R7ZQcVFFDb0"
   ]
  },
  {
   "cell_type": "code",
   "execution_count": null,
   "metadata": {
    "collapsed": true
   },
   "outputs": [],
   "source": []
  }
 ],
 "metadata": {
  "kernelspec": {
   "display_name": "Python 3",
   "language": "python",
   "name": "python3"
  },
  "language_info": {
   "codemirror_mode": {
    "name": "ipython",
    "version": 3
   },
   "file_extension": ".py",
   "mimetype": "text/x-python",
   "name": "python",
   "nbconvert_exporter": "python",
   "pygments_lexer": "ipython3",
   "version": "3.6.2"
  }
 },
 "nbformat": 4,
 "nbformat_minor": 2
}
