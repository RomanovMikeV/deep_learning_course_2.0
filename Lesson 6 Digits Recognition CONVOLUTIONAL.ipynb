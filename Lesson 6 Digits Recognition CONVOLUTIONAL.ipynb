{
 "cells": [
  {
   "cell_type": "code",
   "execution_count": 1,
   "metadata": {
    "ExecuteTime": {
     "end_time": "2018-07-06T05:12:03.434596Z",
     "start_time": "2018-07-06T05:12:00.716558Z"
    }
   },
   "outputs": [],
   "source": [
    "import torch\n",
    "import numpy as np\n",
    "import sklearn.datasets\n",
    "import torchvision.datasets\n",
    "import matplotlib.pyplot as plt"
   ]
  },
  {
   "cell_type": "code",
   "execution_count": 2,
   "metadata": {
    "ExecuteTime": {
     "end_time": "2018-07-06T05:12:03.569167Z",
     "start_time": "2018-07-06T05:12:03.438076Z"
    }
   },
   "outputs": [],
   "source": [
    "# Fetching dataset\n",
    "MNIST_train = torchvision.datasets.MNIST('./', download=True, train=True)\n",
    "MNIST_test = torchvision.datasets.MNIST('./', download=True, train=False)\n",
    "# mnist = sklearn.datasets.fetch_mldata('MNIST original')"
   ]
  },
  {
   "cell_type": "code",
   "execution_count": 3,
   "metadata": {
    "ExecuteTime": {
     "end_time": "2018-07-06T05:12:10.475881Z",
     "start_time": "2018-07-06T05:12:10.467612Z"
    }
   },
   "outputs": [],
   "source": [
    "train_features = MNIST_train.train_data\n",
    "train_labels = MNIST_train.train_labels\n",
    "test_features = MNIST_test.test_data\n",
    "test_labels = MNIST_test.test_labels"
   ]
  },
  {
   "cell_type": "code",
   "execution_count": 4,
   "metadata": {
    "ExecuteTime": {
     "end_time": "2018-07-06T05:12:11.152867Z",
     "start_time": "2018-07-06T05:12:10.954255Z"
    }
   },
   "outputs": [
    {
     "name": "stdout",
     "output_type": "stream",
     "text": [
      "tensor(5)\n"
     ]
    },
    {
     "data": {
      "image/png": "[encoded data removed]",
      "text/plain": [
       "<Figure size 432x288 with 1 Axes>"
      ]
     },
     "metadata": {},
     "output_type": "display_data"
    }
   ],
   "source": [
    "plt.imshow(train_features[0, :, :].numpy())\n",
    "print(train_labels[0])"
   ]
  },
  {
   "cell_type": "code",
   "execution_count": 5,
   "metadata": {
    "ExecuteTime": {
     "end_time": "2018-07-06T05:12:12.473739Z",
     "start_time": "2018-07-06T05:12:12.256494Z"
    }
   },
   "outputs": [
    {
     "name": "stdout",
     "output_type": "stream",
     "text": [
      "tensor(0)\n"
     ]
    },
    {
     "data": {
      "image/png": "[encoded data removed]",
      "text/plain": [
       "<Figure size 432x288 with 1 Axes>"
      ]
     },
     "metadata": {},
     "output_type": "display_data"
    }
   ],
   "source": [
    "plt.imshow(train_features[1, :, :].numpy())\n",
    "print(train_labels[1])"
   ]
  },
  {
   "cell_type": "code",
   "execution_count": 6,
   "metadata": {
    "ExecuteTime": {
     "end_time": "2018-07-06T05:12:28.275159Z",
     "start_time": "2018-07-06T05:12:27.754125Z"
    }
   },
   "outputs": [],
   "source": [
    "train_features = train_features.numpy()\n",
    "test_features = test_features.numpy()\n",
    "train_labels = train_labels.numpy()\n",
    "test_labels = test_labels.numpy()\n",
    "\n",
    "train_features = train_features.reshape([-1, 1, 28, 28]).astype(float)\n",
    "test_features = test_features.reshape([-1, 1, 28, 28]).astype(float)"
   ]
  },
  {
   "cell_type": "code",
   "execution_count": 8,
   "metadata": {
    "ExecuteTime": {
     "end_time": "2018-07-06T05:12:29.402264Z",
     "start_time": "2018-07-06T05:12:29.271051Z"
    }
   },
   "outputs": [],
   "source": [
    "# Всего 10 классов\n",
    "class MnistConvNet(torch.nn.Module):\n",
    "    def __init__(self):\n",
    "        super(MnistConvNet, self).__init__()\n",
    "#         self.batch_norm1 = torch.nn.BatchNorm2d(1)\n",
    "        self.conv1 = torch.nn.Conv2d(1, 16, 3, padding=1)\n",
    "        self.act1  = torch.nn.ReLU()\n",
    "        self.pool1 = torch.nn.MaxPool2d(2, 2)\n",
    "#         self.batch_norm2 = torch.nn.BatchNorm2d(16)\n",
    "        self.conv2 = torch.nn.Conv2d(16, 32, 3, padding=1)\n",
    "        self.act2  = torch.nn.ReLU()\n",
    "        self.pool2 = torch.nn.MaxPool2d(2, 2)\n",
    "#         self.batch_norm3 = torch.nn.BatchNorm2d(32)\n",
    "        self.conv3 = torch.nn.Conv2d(32, 64, 3, padding=1)\n",
    "        self.act3  = torch.nn.ReLU()\n",
    "        \n",
    "#         self.batch_norm4 = torch.nn.BatchNorm1d(49*64)\n",
    "        self.fc1   = torch.nn.Linear(49 * 64, 256)\n",
    "        self.act4  = torch.nn.Tanh()\n",
    "#         self.batch_norm5 = torch.nn.BatchNorm1d(256)\n",
    "        self.fc2   = torch.nn.Linear(256, 64)\n",
    "        self.act5  = torch.nn.Tanh()\n",
    "#         self.batch_norm6 = torch.nn.BatchNorm1d(64)\n",
    "        self.fc3   = torch.nn.Linear(64, 10)\n",
    "    \n",
    "    def forward(self, x):\n",
    "#         x = self.batch_norm1(x)\n",
    "        x = self.conv1(x)\n",
    "        x = self.act1(x)\n",
    "        x = self.pool1(x)\n",
    "#         x = self.batch_norm2(x)\n",
    "        x = self.conv2(x)\n",
    "        x = self.act2(x)\n",
    "        x = self.pool2(x)\n",
    "#         x = self.batch_norm3(x)\n",
    "        x = self.conv3(x)\n",
    "        x = self.act3(x)\n",
    "        \n",
    "        x = x.view(x.size(0), x.size(1) * x.size(2) * x.size(3))\n",
    "#         x = self.batch_norm4(x)\n",
    "        x = self.fc1(x)\n",
    "        x = self.act4(x)\n",
    "#         x = self.batch_norm5(x)\n",
    "        x = self.fc2(x)\n",
    "        x = self.act5(x)\n",
    "#         x = self.batch_norm6(x)\n",
    "        x = self.fc3(x)\n",
    "        \n",
    "        return x"
   ]
  },
  {
   "cell_type": "code",
   "execution_count": 9,
   "metadata": {
    "ExecuteTime": {
     "end_time": "2018-07-06T05:12:39.536838Z",
     "start_time": "2018-07-06T05:12:39.518348Z"
    }
   },
   "outputs": [],
   "source": [
    "mnist_net = MnistConvNet()\n",
    "criterion = torch.nn.CrossEntropyLoss()\n",
    "optimizer = torch.optim.Adam(mnist_net.parameters(), lr=1.0e-3)"
   ]
  },
  {
   "cell_type": "code",
   "execution_count": 12,
   "metadata": {
    "ExecuteTime": {
     "end_time": "2018-07-06T05:38:33.802724Z",
     "start_time": "2018-07-06T05:38:33.770104Z"
    }
   },
   "outputs": [],
   "source": [
    "batch_size = 100\n",
    "for epoch in range(100):\n",
    "    order = np.random.permutation(train_features.shape[0])\n",
    "    for start_index in range(0, train_features.shape[0], batch_size):\n",
    "        optimizer.zero_grad()\n",
    "        \n",
    "        batch_indice = order[start_index:start_index+batch_size]\n",
    "        batch_features = torch.FloatTensor(train_features[batch_indice, :])\n",
    "        batch_labels = torch.LongTensor(train_labels[batch_indice])\n",
    "        \n",
    "        preds = mnist_net.forward(batch_features)\n",
    "        \n",
    "        loss = criterion(preds, batch_labels)\n",
    "        loss.backward()\n",
    "        \n",
    "        optimizer.step()\n",
    "        \n",
    "    order = np.random.permutation(test_features.shape[0])\n",
    "    \n",
    "    all_preds = []\n",
    "    all_trues = []\n",
    "    for start_index in range(0, test_features.shape[0], batch_size):\n",
    "        batch_indice = order[start_index:start_index+batch_size]\n",
    "        batch_features = torch.FloatTensor(test_features[batch_indice, :])\n",
    "        trues = test_labels[batch_indice]\n",
    "        \n",
    "        preds = mnist_net.forward(batch_features).data.numpy().argmax(axis=1)\n",
    "        \n",
    "        all_preds.append(preds)\n",
    "        all_trues.append(trues)\n",
    "        \n",
    "    all_preds = np.concatenate(all_preds)\n",
    "    all_trues = np.concatenate(all_trues)\n",
    "    \n",
    "    print((all_preds == all_trues).sum() / float(all_trues.size))"
   ]
  },
  {
   "cell_type": "markdown",
   "metadata": {},
   "source": [
    "# Задание 1\n",
    "Добавить (раскомментировать) строки кода, добавляющие BatchNorm в модель. Улучшается ли при этом результат? Почему?"
   ]
  },
  {
   "cell_type": "markdown",
   "metadata": {},
   "source": [
    "# Задание 2\n",
    "Увеличить размер пятна (perception area) каждой свертки. Улучшится ли качество?"
   ]
  },
  {
   "cell_type": "markdown",
   "metadata": {},
   "source": [
    "# Задание 3 \n",
    "Можно ли увеличить размер пятна каким-либо другим способом (помимо увеличения размера свертки) в промежутках между MaxPooling?"
   ]
  }
 ],
 "metadata": {
  "anaconda-cloud": {},
  "kernelspec": {
   "display_name": "Python 3",
   "language": "python",
   "name": "python3"
  },
  "language_info": {
   "codemirror_mode": {
    "name": "ipython",
    "version": 3
   },
   "file_extension": ".py",
   "mimetype": "text/x-python",
   "name": "python",
   "nbconvert_exporter": "python",
   "pygments_lexer": "ipython3",
   "version": "3.6.4"
  }
 },
 "nbformat": 4,
 "nbformat_minor": 2
}
