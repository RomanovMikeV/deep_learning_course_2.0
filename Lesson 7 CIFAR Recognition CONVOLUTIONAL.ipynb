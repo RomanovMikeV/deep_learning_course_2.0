{
 "cells": [
  {
   "cell_type": "code",
   "execution_count": 1,
   "metadata": {
    "ExecuteTime": {
     "end_time": "2018-07-06T05:03:49.659389Z",
     "start_time": "2018-07-06T05:03:46.820356Z"
    }
   },
   "outputs": [
    {
     "name": "stderr",
     "output_type": "stream",
     "text": [
      "/Users/yellowduck/miniconda/lib/python3.6/importlib/_bootstrap.py:219: RuntimeWarning: numpy.dtype size changed, may indicate binary incompatibility. Expected 96, got 88\n",
      "  return f(*args, **kwds)\n",
      "/Users/yellowduck/miniconda/lib/python3.6/importlib/_bootstrap.py:219: RuntimeWarning: numpy.dtype size changed, may indicate binary incompatibility. Expected 96, got 88\n",
      "  return f(*args, **kwds)\n",
      "/Users/yellowduck/miniconda/lib/python3.6/importlib/_bootstrap.py:219: RuntimeWarning: numpy.dtype size changed, may indicate binary incompatibility. Expected 96, got 88\n",
      "  return f(*args, **kwds)\n",
      "/Users/yellowduck/miniconda/lib/python3.6/importlib/_bootstrap.py:219: RuntimeWarning: numpy.dtype size changed, may indicate binary incompatibility. Expected 96, got 88\n",
      "  return f(*args, **kwds)\n"
     ]
    }
   ],
   "source": [
    "import torch\n",
    "import numpy as np\n",
    "import matplotlib.pyplot as plt\n",
    "import sklearn.datasets\n",
    "import torchvision.datasets"
   ]
  },
  {
   "cell_type": "code",
   "execution_count": 58,
   "metadata": {
    "ExecuteTime": {
     "end_time": "2018-07-06T05:28:05.468645Z",
     "start_time": "2018-07-06T05:28:02.447513Z"
    }
   },
   "outputs": [
    {
     "name": "stdout",
     "output_type": "stream",
     "text": [
      "Files already downloaded and verified\n",
      "Files already downloaded and verified\n"
     ]
    }
   ],
   "source": [
    "# Fetching dataset\n",
    "CIFAR_train = torchvision.datasets.CIFAR10('./', download=True, train=True)\n",
    "CIFAR_test = torchvision.datasets.CIFAR10('./', download=True, train=False)\n",
    "# mnist = sklearn.datasets.fetch_mldata('MNIST original')"
   ]
  },
  {
   "cell_type": "code",
   "execution_count": 59,
   "metadata": {
    "ExecuteTime": {
     "end_time": "2018-07-06T05:28:05.484864Z",
     "start_time": "2018-07-06T05:28:05.471633Z"
    }
   },
   "outputs": [],
   "source": [
    "train_features = CIFAR_train.train_data\n",
    "train_labels = CIFAR_train.train_labels\n",
    "test_features = CIFAR_test.test_data\n",
    "test_labels = CIFAR_test.test_labels"
   ]
  },
  {
   "cell_type": "code",
   "execution_count": 60,
   "metadata": {
    "ExecuteTime": {
     "end_time": "2018-07-06T05:28:05.652095Z",
     "start_time": "2018-07-06T05:28:05.488368Z"
    }
   },
   "outputs": [
    {
     "name": "stdout",
     "output_type": "stream",
     "text": [
      "6\n"
     ]
    },
    {
     "data": {
      "image/png": "[encoded data removed]",
      "text/plain": [
       "<Figure size 432x288 with 1 Axes>"
      ]
     },
     "metadata": {},
     "output_type": "display_data"
    }
   ],
   "source": [
    "plt.imshow(train_features[0])\n",
    "print(train_labels[0])"
   ]
  },
  {
   "cell_type": "code",
   "execution_count": 61,
   "metadata": {
    "ExecuteTime": {
     "end_time": "2018-07-06T05:28:05.837097Z",
     "start_time": "2018-07-06T05:28:05.656249Z"
    }
   },
   "outputs": [
    {
     "name": "stdout",
     "output_type": "stream",
     "text": [
      "9\n"
     ]
    },
    {
     "data": {
      "image/png": "[encoded data removed]",
      "text/plain": [
       "<Figure size 432x288 with 1 Axes>"
      ]
     },
     "metadata": {},
     "output_type": "display_data"
    }
   ],
   "source": [
    "plt.imshow(train_features[1])\n",
    "print(train_labels[1])"
   ]
  },
  {
   "cell_type": "code",
   "execution_count": 62,
   "metadata": {
    "ExecuteTime": {
     "end_time": "2018-07-06T05:28:05.959255Z",
     "start_time": "2018-07-06T05:28:05.952237Z"
    }
   },
   "outputs": [
    {
     "data": {
      "text/plain": [
       "(50000, 32, 32, 3)"
      ]
     },
     "execution_count": 62,
     "metadata": {},
     "output_type": "execute_result"
    }
   ],
   "source": [
    "train_features.shape"
   ]
  },
  {
   "cell_type": "code",
   "execution_count": 63,
   "metadata": {
    "ExecuteTime": {
     "end_time": "2018-07-06T05:28:07.309352Z",
     "start_time": "2018-07-06T05:28:07.304743Z"
    }
   },
   "outputs": [],
   "source": [
    "train_features = train_features.swapaxes(2, 3).swapaxes(1, 2)\n",
    "test_features = test_features.swapaxes(2, 3).swapaxes(1, 2)"
   ]
  },
  {
   "cell_type": "code",
   "execution_count": 64,
   "metadata": {
    "ExecuteTime": {
     "end_time": "2018-07-06T05:28:07.949035Z",
     "start_time": "2018-07-06T05:28:07.941399Z"
    }
   },
   "outputs": [
    {
     "data": {
      "text/plain": [
       "(50000, 3, 32, 32)"
      ]
     },
     "execution_count": 64,
     "metadata": {},
     "output_type": "execute_result"
    }
   ],
   "source": [
    "train_features.shape"
   ]
  },
  {
   "cell_type": "code",
   "execution_count": 74,
   "metadata": {
    "ExecuteTime": {
     "end_time": "2018-07-06T05:39:47.620592Z",
     "start_time": "2018-07-06T05:39:47.477410Z"
    }
   },
   "outputs": [],
   "source": [
    "# Всего 10 классов\n",
    "class CifarConvNet(torch.nn.Module):\n",
    "    def __init__(self):\n",
    "        super(CifarConvNet, self).__init__()\n",
    "#         self.batch_norm1 = torch.nn.BatchNorm2d(3)\n",
    "        self.conv1 = torch.nn.Conv2d(3, 16, 3, padding=1)\n",
    "        self.act1  = torch.nn.ReLU()\n",
    "        self.pool1 = torch.nn.MaxPool2d(2, 2)\n",
    "#         self.batch_norm2 = torch.nn.BatchNorm2d(16)\n",
    "        self.conv2 = torch.nn.Conv2d(16, 32, 3, padding=1)\n",
    "        self.act2  = torch.nn.ReLU()\n",
    "\n",
    "        self.pool2 = torch.nn.MaxPool2d(2, 2)\n",
    "#         self.batch_norm3 = torch.nn.BatchNorm2d(32)\n",
    "        self.conv3 = torch.nn.Conv2d(32, 64, 3, padding=1)\n",
    "        self.act3  = torch.nn.ReLU()\n",
    "        \n",
    "#         self.batch_norm4 = torch.nn.BatchNorm1d(64*64)\n",
    "        self.fc1   = torch.nn.Linear(64 * 64, 256)\n",
    "        self.act4  = torch.nn.Tanh()\n",
    "#         self.batch_norm5 = torch.nn.BatchNorm1d(256)\n",
    "        self.fc2   = torch.nn.Linear(256, 64)\n",
    "        self.act5  = torch.nn.Tanh()\n",
    "#         self.batch_norm6 = torch.nn.BatchNorm1d(64)\n",
    "        self.fc3   = torch.nn.Linear(64, 10)\n",
    "    \n",
    "    def forward(self, x):\n",
    "#         x = self.batch_norm1(x)\n",
    "        x = self.conv1(x)\n",
    "        x = self.act1(x)\n",
    "        x = self.pool1(x)\n",
    "#         x = self.batch_norm2(x)\n",
    "        x = self.conv2(x)\n",
    "        x = self.act2(x)\n",
    "        x = self.pool2(x)\n",
    "#         x = self.batch_norm3(x)\n",
    "        x = self.conv3(x)\n",
    "        x = self.act3(x)\n",
    "        \n",
    "        x = x.view(x.size(0), x.size(1) * x.size(2) * x.size(3))\n",
    "#         x = self.batch_norm4(x)\n",
    "        x = self.fc1(x)\n",
    "        x = self.act4(x)\n",
    "#         x = self.batch_norm5(x)\n",
    "        x = self.fc2(x)\n",
    "        x = self.act5(x)\n",
    "#         x = self.batch_norm6(x)\n",
    "        x = self.fc3(x)\n",
    "        \n",
    "        return x"
   ]
  },
  {
   "cell_type": "code",
   "execution_count": 75,
   "metadata": {
    "ExecuteTime": {
     "end_time": "2018-07-06T05:39:48.748753Z",
     "start_time": "2018-07-06T05:39:48.725691Z"
    }
   },
   "outputs": [],
   "source": [
    "cifar_net = CifarConvNet()\n",
    "criterion = torch.nn.CrossEntropyLoss()\n",
    "optimizer = torch.optim.Adam(cifar_net.parameters(), lr=1.0e-3)"
   ]
  },
  {
   "cell_type": "code",
   "execution_count": 76,
   "metadata": {
    "ExecuteTime": {
     "end_time": "2018-07-06T05:39:54.563111Z",
     "start_time": "2018-07-06T05:39:49.270712Z"
    }
   },
   "outputs": [],
   "source": [
    "train_features = train_features.astype(float)\n",
    "test_featrues = test_features.astype(float)\n",
    "\n",
    "train_labels = np.array(train_labels)\n",
    "test_labels = np.array(test_labels)"
   ]
  },
  {
   "cell_type": "code",
   "execution_count": 78,
   "metadata": {
    "ExecuteTime": {
     "end_time": "2018-07-06T05:45:17.774582Z",
     "start_time": "2018-07-06T05:45:17.761627Z"
    }
   },
   "outputs": [],
   "source": [
    "batch_size = 100\n",
    "for epoch in range(100):\n",
    "    order = np.random.permutation(train_features.shape[0])\n",
    "    for start_index in range(0, train_features.shape[0], batch_size):\n",
    "        optimizer.zero_grad()\n",
    "        \n",
    "        batch_indice = order[start_index:start_index+batch_size]\n",
    "        batch_features = train_features[batch_indice, :, :, :]\n",
    "        \n",
    "        batch_features = torch.FloatTensor(batch_features)\n",
    "        batch_labels = torch.LongTensor(train_labels[batch_indice])\n",
    "        \n",
    "        preds = cifar_net.forward(batch_features)\n",
    "        loss = criterion(preds, batch_labels)\n",
    "        \n",
    "        loss.backward()\n",
    "        \n",
    "        optimizer.step()\n",
    "        \n",
    "    order = np.random.permutation(test_features.shape[0])\n",
    "    \n",
    "    all_preds = []\n",
    "    all_trues = []\n",
    "    for start_index in range(0, test_features.shape[0], batch_size):\n",
    "        batch_indice = order[start_index:start_index+batch_size]\n",
    "        batch_features = test_features[batch_indice, :, :, :].astype(float)\n",
    "        batch_features = torch.FloatTensor(batch_features)\n",
    "        trues = test_labels[batch_indice]\n",
    "        \n",
    "        preds = cifar_net.forward(batch_features).data.numpy().argmax(axis=1)\n",
    "        \n",
    "        all_preds.append(preds)\n",
    "        all_trues.append(trues)\n",
    "        \n",
    "    all_preds = np.concatenate(all_preds)\n",
    "    all_trues = np.concatenate(all_trues)\n",
    "    \n",
    "    print((all_preds == all_trues).sum() / all_trues.size)"
   ]
  },
  {
   "cell_type": "markdown",
   "metadata": {},
   "source": [
    "# Задание 1\n",
    "Добавить (раскомментировать) строки кода, добавляющие BatchNorm в модель. Улучшается ли при этом результат? Почему?"
   ]
  },
  {
   "cell_type": "markdown",
   "metadata": {},
   "source": [
    "# Задание 2\n",
    "Увеличить размер пятна (perception area) каждой свертки. Улучшится ли качество?"
   ]
  },
  {
   "cell_type": "markdown",
   "metadata": {},
   "source": [
    "# Задание 3 \n",
    "Можно ли увеличить размер пятна каким-либо другим способом (помимо увеличения размера свертки) в промежутках между MaxPooling?"
   ]
  }
 ],
 "metadata": {
  "anaconda-cloud": {},
  "kernelspec": {
   "display_name": "Python 3",
   "language": "python",
   "name": "python3"
  },
  "language_info": {
   "codemirror_mode": {
    "name": "ipython",
    "version": 3
   },
   "file_extension": ".py",
   "mimetype": "text/x-python",
   "name": "python",
   "nbconvert_exporter": "python",
   "pygments_lexer": "ipython3",
   "version": "3.6.4"
  }
 },
 "nbformat": 4,
 "nbformat_minor": 2
}
